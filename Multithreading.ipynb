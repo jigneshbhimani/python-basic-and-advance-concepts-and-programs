{
 "cells": [
  {
   "cell_type": "code",
   "execution_count": null,
   "metadata": {},
   "outputs": [],
   "source": [
    "'''\n",
    "There are two types of multitasking in an OS:\n",
    "\n",
    "Process-based: multiple threads running on the same OS simultaneously.\n",
    "               ex. downloading,listening to song and playing a game.\n",
    "\n",
    "Thread-based: single process consisting of seprate class.\n",
    "              ex. a game of FIFA consist of various threads.\n",
    "              \n",
    "Threads in Python can be created in three ways:\n",
    "1) Without creating class : user defined function, thread object\n",
    "2) By extending Thread class : create class inherite thread, run() override, child class create \n",
    "3) Without extending Thread class\n",
    "'''"
   ]
  },
  {
   "cell_type": "markdown",
   "metadata": {},
   "source": [
    "# Without creating class"
   ]
  },
  {
   "cell_type": "code",
   "execution_count": 1,
   "metadata": {},
   "outputs": [
    {
     "name": "stdout",
     "output_type": "stream",
     "text": [
      "Hello\n",
      "0 \tTH1 Thread-7\n",
      "0 TH1 Thread-6\n",
      "11 TH1 Thread-6\n",
      " \tTH1 Thread-7\n",
      "22 \tTH1 Thread-7\n",
      " TH1 Thread-6\n",
      "33 TH1 Thread-6\n",
      " \tTH1 Thread-7\n",
      "44 \tTH1 Thread-7\n",
      " TH1 Thread-6\n",
      "55 TH1 Thread-6\n",
      " \tTH1 Thread-7\n",
      "66 TH1  \tTH1 Thread-7\n",
      "Thread-6\n",
      "77 TH1 Thread-6 \tTH1 Thread-7\n",
      "\n",
      "88 \tTH1 Thread-7\n",
      " TH1 Thread-6\n",
      "99 \tTH1 Thread-7\n",
      " TH1 Thread-6\n",
      "World!\n"
     ]
    }
   ],
   "source": [
    "import threading\n",
    "import time\n",
    "\n",
    "def fun(name,t):\n",
    "    for i in range(10):\n",
    "        time.sleep(t)\n",
    "        print(i,name,threading.current_thread().getName())\n",
    "        \n",
    "th1 = threading.Thread(target=fun,args=(\"TH1\",2)) #Thread creation\n",
    "th1.start()\n",
    "\n",
    "th2 = threading.Thread(target=fun,args=(\"\\tTH1\",2))#Thread creation\n",
    "th2.start()\n",
    "\n",
    "print(\"Hello\")\n",
    "th1.join()\n",
    "print(\"World!\")"
   ]
  },
  {
   "cell_type": "markdown",
   "metadata": {},
   "source": [
    "# By extending Thread class: run()"
   ]
  },
  {
   "cell_type": "code",
   "execution_count": 2,
   "metadata": {},
   "outputs": [
    {
     "name": "stdout",
     "output_type": "stream",
     "text": [
      "Hello child! Thread-8\n",
      "Hello child! Thread-8\n",
      "Hello child! Thread-8\n",
      "Hello child! Thread-8\n",
      "Hello child! Thread-8\n",
      "\n",
      "Bye----- MainThread\n"
     ]
    }
   ],
   "source": [
    "from threading import *\n",
    "\n",
    "class child(threading.Thread):\n",
    "    def run(self):\n",
    "        for i in range(1,6):\n",
    "            print(\"Hello child!\",threading.current_thread().getName())\n",
    "            \n",
    "obj = child() #Thread creation\n",
    "obj.start()\n",
    "obj.join()\n",
    "print(\"\\nBye-----\",threading.current_thread().getName())"
   ]
  },
  {
   "cell_type": "markdown",
   "metadata": {},
   "source": [
    "# Without extending Thread class"
   ]
  },
  {
   "cell_type": "code",
   "execution_count": 3,
   "metadata": {},
   "outputs": [
    {
     "name": "stdout",
     "output_type": "stream",
     "text": [
      "Child thread 0 Thread-9\n",
      "Child thread 1 Thread-9\n",
      "Child thread 2 Thread-9\n",
      "Child thread 3 Thread-9\n",
      "Child thread 4 Thread-9\n",
      "Child thread 5 Thread-9\n"
     ]
    }
   ],
   "source": [
    "class Th:\n",
    "    def value(self):\n",
    "        for i in range(6):\n",
    "            print(\"Child thread\",i,current_thread().getName())\n",
    "\n",
    "obj = Th()\n",
    "t = Thread(target = obj.value)\n",
    "t.start()"
   ]
  },
  {
   "cell_type": "markdown",
   "metadata": {},
   "source": [
    "# without using threading execution time"
   ]
  },
  {
   "cell_type": "code",
   "execution_count": 4,
   "metadata": {},
   "outputs": [
    {
     "name": "stdout",
     "output_type": "stream",
     "text": [
      "fun1---> 0\n",
      "fun1---> 1\n",
      "fun1---> 2\n",
      "fun1---> 3\n",
      "fun1---> 4\n",
      "fun1---> 5\n",
      "fun2---> 100\n",
      "fun2---> 101\n",
      "fun2---> 102\n",
      "fun2---> 103\n",
      "fun2---> 104\n",
      "fun2---> 105\n",
      "12.070337772369385\n"
     ]
    }
   ],
   "source": [
    "import threading\n",
    "import time\n",
    "\n",
    "def fun1():\n",
    "    for i in range(6):\n",
    "        time.sleep(1)\n",
    "        print(\"fun1--->\",i)\n",
    "        \n",
    "def fun2():\n",
    "    for i in range(6):\n",
    "        time.sleep(1)\n",
    "        print(\"fun2--->\",i+100)\n",
    "s = time.time()\n",
    "fun1()\n",
    "fun2()\n",
    "e = time.time()\n",
    "print(e-s)"
   ]
  },
  {
   "cell_type": "markdown",
   "metadata": {},
   "source": [
    "# using threading execution time"
   ]
  },
  {
   "cell_type": "code",
   "execution_count": 5,
   "metadata": {},
   "outputs": [
    {
     "name": "stdout",
     "output_type": "stream",
     "text": [
      "fun2---> 100\n",
      "fun1---> 0\n",
      "fun2--->fun1---> 101\n",
      " 1\n",
      "fun1--->fun2---> 102\n",
      " 2\n",
      "fun2--->fun1---> 3\n",
      " 103\n",
      "fun2--->fun1---> 4\n",
      " 104\n",
      "fun2--->fun1---> 105\n",
      " 5\n",
      "6.049899101257324\n"
     ]
    }
   ],
   "source": [
    "s = time.time()\n",
    "th1 = threading.Thread(target=fun1)\n",
    "th2 = threading.Thread(target=fun2)\n",
    "th1.start()\n",
    "th2.start()\n",
    "th1.join()\n",
    "th2.join()\n",
    "e = time.time()\n",
    "print(e-s)"
   ]
  }
 ],
 "metadata": {
  "kernelspec": {
   "display_name": "Python 3",
   "language": "python",
   "name": "python3"
  },
  "language_info": {
   "codemirror_mode": {
    "name": "ipython",
    "version": 3
   },
   "file_extension": ".py",
   "mimetype": "text/x-python",
   "name": "python",
   "nbconvert_exporter": "python",
   "pygments_lexer": "ipython3",
   "version": "3.7.9"
  }
 },
 "nbformat": 4,
 "nbformat_minor": 4
}
