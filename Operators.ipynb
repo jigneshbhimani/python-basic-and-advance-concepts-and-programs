{
 "cells": [
  {
   "cell_type": "markdown",
   "metadata": {},
   "source": [
    "# Arithmetic Operators"
   ]
  },
  {
   "cell_type": "code",
   "execution_count": 1,
   "metadata": {},
   "outputs": [
    {
     "data": {
      "text/plain": [
       "2.0"
      ]
     },
     "execution_count": 1,
     "metadata": {},
     "output_type": "execute_result"
    }
   ],
   "source": [
    "# Divide (output : float value)\n",
    "10/5"
   ]
  },
  {
   "cell_type": "code",
   "execution_count": 2,
   "metadata": {},
   "outputs": [
    {
     "data": {
      "text/plain": [
       "2"
      ]
     },
     "execution_count": 2,
     "metadata": {},
     "output_type": "execute_result"
    }
   ],
   "source": [
    "# Divide (output : integer value)\n",
    "10//5"
   ]
  },
  {
   "cell_type": "code",
   "execution_count": 3,
   "metadata": {},
   "outputs": [
    {
     "data": {
      "text/plain": [
       "100"
      ]
     },
     "execution_count": 3,
     "metadata": {},
     "output_type": "execute_result"
    }
   ],
   "source": [
    "# Floor division\n",
    "10**2"
   ]
  },
  {
   "cell_type": "code",
   "execution_count": 4,
   "metadata": {},
   "outputs": [
    {
     "data": {
      "text/plain": [
       "14"
      ]
     },
     "execution_count": 4,
     "metadata": {},
     "output_type": "execute_result"
    }
   ],
   "source": [
    "# Add\n",
    "6+8"
   ]
  },
  {
   "cell_type": "code",
   "execution_count": 8,
   "metadata": {},
   "outputs": [
    {
     "data": {
      "text/plain": [
       "-1"
      ]
     },
     "execution_count": 8,
     "metadata": {},
     "output_type": "execute_result"
    }
   ],
   "source": [
    "# Subtract\n",
    "6-7"
   ]
  },
  {
   "cell_type": "code",
   "execution_count": 6,
   "metadata": {},
   "outputs": [
    {
     "data": {
      "text/plain": [
       "30"
      ]
     },
     "execution_count": 6,
     "metadata": {},
     "output_type": "execute_result"
    }
   ],
   "source": [
    "# Exponent\n",
    "5*6"
   ]
  },
  {
   "cell_type": "code",
   "execution_count": 7,
   "metadata": {},
   "outputs": [
    {
     "data": {
      "text/plain": [
       "'aaaaa'"
      ]
     },
     "execution_count": 7,
     "metadata": {},
     "output_type": "execute_result"
    }
   ],
   "source": [
    "# Multiply\n",
    "'a' * 5"
   ]
  },
  {
   "cell_type": "markdown",
   "metadata": {},
   "source": [
    "# Logical Operators"
   ]
  },
  {
   "cell_type": "code",
   "execution_count": 29,
   "metadata": {},
   "outputs": [
    {
     "name": "stdout",
     "output_type": "stream",
     "text": [
      "True\n",
      "False\n"
     ]
    }
   ],
   "source": [
    "# And\n",
    "'''\n",
    "0 and 1 : 0\n",
    "0 and 0 : 0\n",
    "1 and 0 : 0\n",
    "1 and 1 : 1\n",
    "'''\n",
    "\n",
    "# 1 and 1\n",
    "a = 10<20 and 20>10\n",
    "print(a)\n",
    "\n",
    "# 1 and 0\n",
    "b = 10<20 and 20>30\n",
    "print(b)"
   ]
  },
  {
   "cell_type": "code",
   "execution_count": 30,
   "metadata": {},
   "outputs": [
    {
     "name": "stdout",
     "output_type": "stream",
     "text": [
      "Enter a number of A:55\n",
      "Enter a number of B:65\n",
      "Enter a number of C:70\n",
      "Numbers are greater than 0\n"
     ]
    }
   ],
   "source": [
    "# And\n",
    "\n",
    "a=int(input(\"Enter a number of A:\"))\n",
    "b=int(input(\"Enter a number of B:\"))\n",
    "c=int(input(\"Enter a number of C:\"))\n",
    "\n",
    "if a>0 and b>0:\n",
    "    print(\"Numbers are greater than 0\")\n",
    "elif a>0 and b>0 and c>0:\n",
    "    print(\"Numbers are greater than 0\")\n",
    "else:\n",
    "    print(\"Atleast one number is not greater than o\")"
   ]
  },
  {
   "cell_type": "code",
   "execution_count": 31,
   "metadata": {},
   "outputs": [
    {
     "name": "stdout",
     "output_type": "stream",
     "text": [
      "True\n",
      "False\n"
     ]
    }
   ],
   "source": [
    "# Or - True/False\n",
    "'''\n",
    "0 and 1 : 1\n",
    "0 and 0 : 0\n",
    "1 and 0 : 1\n",
    "1 and 1 : 1\n",
    "'''\n",
    "\n",
    "# 0 or 1\n",
    "a = 10>20 or 20>10\n",
    "print(a)\n",
    "\n",
    "# 0 or o\n",
    "b = 10>20 or 20>30\n",
    "print(b)"
   ]
  },
  {
   "cell_type": "code",
   "execution_count": 32,
   "metadata": {},
   "outputs": [
    {
     "name": "stdout",
     "output_type": "stream",
     "text": [
      "Enter a number of A:78\n",
      "Enter a number of B:65\n",
      "Enter a number of C:44\n",
      "Atleast one number has boolean value as True\n"
     ]
    }
   ],
   "source": [
    "# Or\n",
    "\n",
    "a=int(input(\"Enter a number of A:\"))\n",
    "b=int(input(\"Enter a number of B:\"))\n",
    "c=int(input(\"Enter a number of C:\"))\n",
    "\n",
    "if a or b or c:\n",
    "    print(\"Atleast one number has boolean value as True\")\n",
    "else:\n",
    "    print(\"All the numbers have boolean value as False\")"
   ]
  },
  {
   "cell_type": "code",
   "execution_count": 33,
   "metadata": {},
   "outputs": [
    {
     "data": {
      "text/plain": [
       "False"
      ]
     },
     "execution_count": 33,
     "metadata": {},
     "output_type": "execute_result"
    }
   ],
   "source": [
    "# not in\n",
    "\n",
    "ls = [1,24,5,7,8]\n",
    "24 not in ls"
   ]
  },
  {
   "cell_type": "code",
   "execution_count": 35,
   "metadata": {},
   "outputs": [
    {
     "name": "stdout",
     "output_type": "stream",
     "text": [
      "Enter a number of A:10\n",
      "10 is divided by 3 or 5\n"
     ]
    }
   ],
   "source": [
    "# Not\n",
    "\n",
    "a=int(input(\"Enter a number of A:\"))\n",
    "\n",
    "if not a:\n",
    "    print(\"Value of A is TRUE\")\n",
    "if not (a%3 == 0 or a%5 == 0):\n",
    "    print(\"10 is not divided by 3 or 5\")\n",
    "else:\n",
    "    print(\"10 is divided by 3 or 5\")"
   ]
  },
  {
   "cell_type": "markdown",
   "metadata": {},
   "source": [
    "# Comparision Operators"
   ]
  },
  {
   "cell_type": "code",
   "execution_count": 15,
   "metadata": {},
   "outputs": [],
   "source": [
    "# 1. ==\n",
    "# 2. !=\n",
    "# 3. >\n",
    "# 4. <\n",
    "# 5. >=\n",
    "# 6. <="
   ]
  },
  {
   "cell_type": "code",
   "execution_count": 18,
   "metadata": {},
   "outputs": [
    {
     "name": "stdout",
     "output_type": "stream",
     "text": [
      "Enter your percentage:55\n",
      "Enter your percentage:55\n",
      "A equal to B\n"
     ]
    }
   ],
   "source": [
    "# 1.==\n",
    "\n",
    "a=int(input(\"Enter your percentage:\"))\n",
    "b=int(input(\"Enter your percentage:\"))\n",
    "if (a==b):\n",
    "    print(\"A equal to B\")\n",
    "else:\n",
    "    print(\"A is not equal to B\")"
   ]
  },
  {
   "cell_type": "code",
   "execution_count": 17,
   "metadata": {},
   "outputs": [
    {
     "name": "stdout",
     "output_type": "stream",
     "text": [
      "Enter your percentage:55\n",
      "Enter your percentage:65\n",
      "A is not equal to B\n"
     ]
    }
   ],
   "source": [
    "# 2.!=\n",
    "\n",
    "a=int(input(\"Enter your percentage:\"))\n",
    "b=int(input(\"Enter your percentage:\"))\n",
    "if (a!=b):\n",
    "    print(\"A is not equal to B\")\n",
    "else:\n",
    "    print(\"A equal to B\")"
   ]
  },
  {
   "cell_type": "code",
   "execution_count": 20,
   "metadata": {},
   "outputs": [
    {
     "name": "stdout",
     "output_type": "stream",
     "text": [
      "Enter your percentage 1:55\n",
      "Enter your percentage 2:45\n",
      "A is greater than B\n"
     ]
    }
   ],
   "source": [
    "# 3.>\n",
    "\n",
    "a=int(input(\"Enter your percentage 1:\"))\n",
    "b=int(input(\"Enter your percentage 2:\"))\n",
    "if (a>b):\n",
    "    print(\"A is greater than B\")\n",
    "else:\n",
    "    print(\"A is not greater than B\")"
   ]
  },
  {
   "cell_type": "code",
   "execution_count": 21,
   "metadata": {},
   "outputs": [
    {
     "name": "stdout",
     "output_type": "stream",
     "text": [
      "Enter your percentage 1:55\n",
      "Enter your percentage 2:65\n",
      "A is less than B\n"
     ]
    }
   ],
   "source": [
    "# 4.<\n",
    "\n",
    "a=int(input(\"Enter your percentage 1:\"))\n",
    "b=int(input(\"Enter your percentage 2:\"))\n",
    "if (a<b):\n",
    "    print(\"A is less than B\")\n",
    "else:\n",
    "    print(\"A is not less than B\")"
   ]
  },
  {
   "cell_type": "code",
   "execution_count": 23,
   "metadata": {},
   "outputs": [
    {
     "name": "stdout",
     "output_type": "stream",
     "text": [
      "Enter your percentage 1:65\n",
      "Enter your percentage 2:76\n",
      "B is either greater than or equal to A\n"
     ]
    }
   ],
   "source": [
    "# 5.>=\n",
    "\n",
    "a=int(input(\"Enter your percentage 1:\"))\n",
    "b=int(input(\"Enter your percentage 2:\"))\n",
    "\n",
    "if (b>=a):\n",
    "    print(\"B is either greater than or equal to A\")\n",
    "else:\n",
    "    print(\"B is neither greater than nor equal to A\")"
   ]
  },
  {
   "cell_type": "code",
   "execution_count": 24,
   "metadata": {},
   "outputs": [
    {
     "name": "stdout",
     "output_type": "stream",
     "text": [
      "Enter your percentage 1:78\n",
      "Enter your percentage 2:76\n",
      "A is neither less than nor equal to B\n"
     ]
    }
   ],
   "source": [
    "# 6.<=\n",
    "\n",
    "a=int(input(\"Enter your percentage 1:\"))\n",
    "b=int(input(\"Enter your percentage 2:\"))\n",
    "\n",
    "if (a<=b):\n",
    "    print(\"A is either less than or equal to B\")\n",
    "else:\n",
    "    print(\"A is neither less than nor equal to B\")"
   ]
  },
  {
   "cell_type": "markdown",
   "metadata": {},
   "source": [
    "# Identity Opeartors"
   ]
  },
  {
   "cell_type": "code",
   "execution_count": 26,
   "metadata": {},
   "outputs": [],
   "source": [
    "# is\n",
    "# is not"
   ]
  },
  {
   "cell_type": "code",
   "execution_count": 27,
   "metadata": {},
   "outputs": [
    {
     "name": "stdout",
     "output_type": "stream",
     "text": [
      "Enter a number:55\n",
      "Enter a number:65\n",
      "A and B is not same\n",
      "A and B both are not same\n"
     ]
    }
   ],
   "source": [
    "a=int(input(\"Enter a number:\"))\n",
    "b=int(input(\"Enter a number:\"))\n",
    "\n",
    "if (a is b):\n",
    "    print(\"A and B both are same\")\n",
    "else:\n",
    "    print(\"A and B is not same\")\n",
    "    \n",
    "if (a is not b):\n",
    "    print(\"A and B both are not same\")\n",
    "else:\n",
    "    print(\"A and B both are same\")"
   ]
  },
  {
   "cell_type": "markdown",
   "metadata": {},
   "source": [
    "# Membership Operators"
   ]
  },
  {
   "cell_type": "code",
   "execution_count": null,
   "metadata": {},
   "outputs": [],
   "source": [
    "# in\n",
    "# not in"
   ]
  },
  {
   "cell_type": "code",
   "execution_count": 28,
   "metadata": {},
   "outputs": [
    {
     "name": "stdout",
     "output_type": "stream",
     "text": [
      "A is available in the list\n",
      "B is not available in the list\n"
     ]
    }
   ],
   "source": [
    "a=5\n",
    "b=20\n",
    "list = [1,2,5,6,10]\n",
    "\n",
    "if (a in list):\n",
    "    print(\"A is available in the list\")\n",
    "else:\n",
    "    print(\"A is not available in the list\")\n",
    "    \n",
    "if (b not in list):\n",
    "    print(\"B is not available in the list\")\n",
    "else:\n",
    "    print(\"B is available in the list\")"
   ]
  },
  {
   "cell_type": "code",
   "execution_count": null,
   "metadata": {},
   "outputs": [],
   "source": []
  },
  {
   "cell_type": "code",
   "execution_count": null,
   "metadata": {},
   "outputs": [],
   "source": []
  }
 ],
 "metadata": {
  "kernelspec": {
   "display_name": "Python 3",
   "language": "python",
   "name": "python3"
  },
  "language_info": {
   "codemirror_mode": {
    "name": "ipython",
    "version": 3
   },
   "file_extension": ".py",
   "mimetype": "text/x-python",
   "name": "python",
   "nbconvert_exporter": "python",
   "pygments_lexer": "ipython3",
   "version": "3.7.9"
  }
 },
 "nbformat": 4,
 "nbformat_minor": 4
}
