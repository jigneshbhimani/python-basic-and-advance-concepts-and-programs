{
 "cells": [
  {
   "cell_type": "code",
   "execution_count": 1,
   "metadata": {},
   "outputs": [],
   "source": [
    "# database:\n",
    "#     1.establish connection with mysql\n",
    "#     2.create database\n",
    "#     3.Create cursor\n",
    "#     4.execute any sql query(insert,update,delete)\n",
    "#     5.connection close"
   ]
  },
  {
   "cell_type": "code",
   "execution_count": 2,
   "metadata": {},
   "outputs": [],
   "source": [
    "# In cmd for install pymysql in python folder : python -m pip install pymysql"
   ]
  },
  {
   "cell_type": "code",
   "execution_count": 4,
   "metadata": {},
   "outputs": [],
   "source": [
    "# connect to the phpmyadmin\n",
    "\n",
    "import pymysql\n",
    "def connection():\n",
    "    return pymysql.connect(user=\"root\",host=\"localhost\")"
   ]
  },
  {
   "cell_type": "code",
   "execution_count": 5,
   "metadata": {},
   "outputs": [
    {
     "name": "stdout",
     "output_type": "stream",
     "text": [
      "<pymysql.connections.Connection object at 0x000001419F1C58C8>\n"
     ]
    }
   ],
   "source": [
    "print(connection())"
   ]
  },
  {
   "cell_type": "code",
   "execution_count": 6,
   "metadata": {},
   "outputs": [],
   "source": [
    "# create database\n",
    "\n",
    "def DB():\n",
    "    conn = connection()\n",
    "    cur = conn.cursor()\n",
    "    # create database DB_name\n",
    "    sql = \"create database python\"\n",
    "    cur.execute(sql)\n",
    "    print(\"done\")\n",
    "    conn.commit()\n",
    "    conn.close()"
   ]
  },
  {
   "cell_type": "code",
   "execution_count": 7,
   "metadata": {},
   "outputs": [
    {
     "name": "stdout",
     "output_type": "stream",
     "text": [
      "done\n"
     ]
    }
   ],
   "source": [
    "DB()"
   ]
  },
  {
   "cell_type": "code",
   "execution_count": 8,
   "metadata": {},
   "outputs": [],
   "source": [
    "# connect to the phpmyadmin\n",
    "\n",
    "def connection():\n",
    "    return pymysql.connect(host=\"localhost\",user=\"root\",database=\"python\")"
   ]
  },
  {
   "cell_type": "code",
   "execution_count": 9,
   "metadata": {},
   "outputs": [
    {
     "name": "stdout",
     "output_type": "stream",
     "text": [
      "<pymysql.connections.Connection object at 0x000001419F1E8E08>\n"
     ]
    }
   ],
   "source": [
    "print(connection())"
   ]
  },
  {
   "cell_type": "code",
   "execution_count": 10,
   "metadata": {},
   "outputs": [],
   "source": [
    "# create table\n",
    "# create table table_name(column_name datatype)\n",
    "\n",
    "def tab():\n",
    "    conn = connection()\n",
    "    cur = conn.cursor()\n",
    "    #sql = \"create table student (Id int,First_name varchar(20),Last_name varchar(20))\"\n",
    "    #cur.execute(sql)\n",
    "    cur.execute(\"create table student (Id int,First_name varchar(20),Last_name varchar(20))\")\n",
    "    print(\"done\")\n",
    "    conn.commit()\n",
    "    conn.close()"
   ]
  },
  {
   "cell_type": "code",
   "execution_count": 11,
   "metadata": {},
   "outputs": [
    {
     "name": "stdout",
     "output_type": "stream",
     "text": [
      "done\n"
     ]
    }
   ],
   "source": [
    "tab()"
   ]
  },
  {
   "cell_type": "code",
   "execution_count": 12,
   "metadata": {},
   "outputs": [],
   "source": [
    "# insert\n",
    "# insert into table_name values(column_values)\n",
    "\n",
    "def Insert(id,fn,ln):\n",
    "    conn = connection()\n",
    "    cur = conn.cursor()\n",
    "    sql = \"insert into student values (%s,%s,%s)\"\n",
    "    value = (id,fn,ln)\n",
    "    cur.execute(sql,value)\n",
    "    print(\"done\")\n",
    "    conn.commit()\n",
    "    conn.close()"
   ]
  },
  {
   "cell_type": "code",
   "execution_count": 13,
   "metadata": {},
   "outputs": [
    {
     "name": "stdout",
     "output_type": "stream",
     "text": [
      "done\n"
     ]
    }
   ],
   "source": [
    "Insert(1,\"Jignesh\",\"Bhimani\")"
   ]
  },
  {
   "cell_type": "code",
   "execution_count": 14,
   "metadata": {},
   "outputs": [
    {
     "name": "stdout",
     "output_type": "stream",
     "text": [
      "done\n"
     ]
    }
   ],
   "source": [
    "Insert(2,\"Rahul\",\"Shah\")"
   ]
  },
  {
   "cell_type": "code",
   "execution_count": 15,
   "metadata": {},
   "outputs": [
    {
     "name": "stdout",
     "output_type": "stream",
     "text": [
      "done\n"
     ]
    }
   ],
   "source": [
    "Insert(3,\"Disha\",\"Vekariya\")"
   ]
  },
  {
   "cell_type": "code",
   "execution_count": 17,
   "metadata": {},
   "outputs": [],
   "source": [
    "# update data\n",
    "# update table_name set column_name = new_value where condition\n",
    "\n",
    "def update():\n",
    "    conn = connection()\n",
    "    cur = conn.cursor()\n",
    "    sql = \"update student set First_name = 'Ankita' where id=3\"\n",
    "    cur.execute(sql)\n",
    "    print('done')\n",
    "    conn.commit()\n",
    "    conn.close()"
   ]
  },
  {
   "cell_type": "code",
   "execution_count": 18,
   "metadata": {},
   "outputs": [
    {
     "name": "stdout",
     "output_type": "stream",
     "text": [
      "done\n"
     ]
    }
   ],
   "source": [
    "update()"
   ]
  },
  {
   "cell_type": "code",
   "execution_count": 19,
   "metadata": {},
   "outputs": [],
   "source": [
    "# delete-----> delete from table_name where condition\n",
    "\n",
    "def Delete():\n",
    "    conn = connection()\n",
    "    cur = conn.cursor()\n",
    "    sql = \"delete from student where id=3\"\n",
    "    cur.execute(sql)\n",
    "    print('done')\n",
    "    conn.commit()\n",
    "    conn.close()"
   ]
  },
  {
   "cell_type": "code",
   "execution_count": 20,
   "metadata": {},
   "outputs": [
    {
     "name": "stdout",
     "output_type": "stream",
     "text": [
      "done\n"
     ]
    }
   ],
   "source": [
    "Delete()"
   ]
  }
 ],
 "metadata": {
  "kernelspec": {
   "display_name": "Python 3",
   "language": "python",
   "name": "python3"
  },
  "language_info": {
   "codemirror_mode": {
    "name": "ipython",
    "version": 3
   },
   "file_extension": ".py",
   "mimetype": "text/x-python",
   "name": "python",
   "nbconvert_exporter": "python",
   "pygments_lexer": "ipython3",
   "version": "3.7.9"
  }
 },
 "nbformat": 4,
 "nbformat_minor": 4
}
