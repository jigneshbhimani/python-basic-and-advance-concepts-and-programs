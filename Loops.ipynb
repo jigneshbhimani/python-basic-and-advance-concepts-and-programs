{
 "cells": [
  {
   "cell_type": "markdown",
   "metadata": {},
   "source": [
    "# if-else"
   ]
  },
  {
   "cell_type": "code",
   "execution_count": 1,
   "metadata": {},
   "outputs": [
    {
     "name": "stdout",
     "output_type": "stream",
     "text": [
      "Value of A:5\n",
      "Value of B:6\n",
      "B is greater than A\n"
     ]
    }
   ],
   "source": [
    "a = int(input(\"Value of A:\"))\n",
    "b = int(input(\"Value of B:\"))\n",
    "if a>b:\n",
    "    print(\"A is greater than B\")\n",
    "else:\n",
    "    print(\"B is greater than A\")"
   ]
  },
  {
   "cell_type": "markdown",
   "metadata": {},
   "source": [
    "# if-else ladder"
   ]
  },
  {
   "cell_type": "code",
   "execution_count": 2,
   "metadata": {},
   "outputs": [
    {
     "name": "stdout",
     "output_type": "stream",
     "text": [
      "Enter your percentage:67\n",
      "First class\n"
     ]
    }
   ],
   "source": [
    "per = int(input(\"Enter your percentage:\"))\n",
    "\n",
    "if per>=70:\n",
    "    print(\"Distinction\")\n",
    "elif per>=65 and per<70:\n",
    "    print(\"First class\")\n",
    "elif per>=60 and per<65:\n",
    "    print(\"Second class\")\n",
    "elif per>=55 and per<60:\n",
    "    print(\"Third class\")\n",
    "else:\n",
    "    print(\"Fail\")"
   ]
  },
  {
   "cell_type": "markdown",
   "metadata": {},
   "source": [
    "# while"
   ]
  },
  {
   "cell_type": "code",
   "execution_count": 3,
   "metadata": {},
   "outputs": [
    {
     "name": "stdout",
     "output_type": "stream",
     "text": [
      "1\n",
      "2\n",
      "3\n",
      "4\n",
      "5\n",
      "6\n",
      "7\n",
      "8\n",
      "9\n",
      "10\n"
     ]
    }
   ],
   "source": [
    "i = 1\n",
    "while i<=10:\n",
    "    print(i)\n",
    "    i=i+1"
   ]
  },
  {
   "cell_type": "markdown",
   "metadata": {},
   "source": [
    "# for"
   ]
  },
  {
   "cell_type": "code",
   "execution_count": 4,
   "metadata": {},
   "outputs": [
    {
     "name": "stdout",
     "output_type": "stream",
     "text": [
      "1\n",
      "2\n",
      "3\n",
      "4\n",
      "5\n",
      "6\n",
      "7\n",
      "8\n",
      "9\n",
      "10\n"
     ]
    }
   ],
   "source": [
    "for i in range(1,11):\n",
    "    print(i)"
   ]
  },
  {
   "cell_type": "markdown",
   "metadata": {},
   "source": [
    "# Nested if"
   ]
  },
  {
   "cell_type": "code",
   "execution_count": 5,
   "metadata": {},
   "outputs": [
    {
     "name": "stdout",
     "output_type": "stream",
     "text": [
      "Enter your Age:23\n",
      "Enter your Weight:59\n",
      "Blood donate\n"
     ]
    }
   ],
   "source": [
    "age = int(input(\"Enter your Age:\"))\n",
    "\n",
    "if age>=18:\n",
    "    weight = int(input(\"Enter your Weight:\"))\n",
    "    if weight>=50:\n",
    "        print(\"Blood donate\")\n",
    "    else:\n",
    "        print(\"Under weight\")\n",
    "else:\n",
    "    print(\"Under age\")"
   ]
  }
 ],
 "metadata": {
  "kernelspec": {
   "display_name": "Python 3",
   "language": "python",
   "name": "python3"
  },
  "language_info": {
   "codemirror_mode": {
    "name": "ipython",
    "version": 3
   },
   "file_extension": ".py",
   "mimetype": "text/x-python",
   "name": "python",
   "nbconvert_exporter": "python",
   "pygments_lexer": "ipython3",
   "version": "3.7.9"
  }
 },
 "nbformat": 4,
 "nbformat_minor": 4
}
