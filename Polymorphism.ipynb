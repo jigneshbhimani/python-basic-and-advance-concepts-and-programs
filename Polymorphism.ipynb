{
 "cells": [
  {
   "cell_type": "code",
   "execution_count": null,
   "metadata": {},
   "outputs": [],
   "source": [
    "# Polymorphism : \n",
    "# Poly means many and morphism means forms one named has different different forms its called polymorphism."
   ]
  },
  {
   "cell_type": "markdown",
   "metadata": {},
   "source": [
    "# Method Overriding"
   ]
  },
  {
   "cell_type": "code",
   "execution_count": 1,
   "metadata": {},
   "outputs": [],
   "source": [
    "# Two classes have same method name with same parameters it is also known as runtime polymorphism."
   ]
  },
  {
   "cell_type": "code",
   "execution_count": 2,
   "metadata": {},
   "outputs": [],
   "source": [
    "class A:\n",
    "    def info(self):\n",
    "        print(\"a class function\")\n",
    "        \n",
    "class B(A):\n",
    "    def info(self):\n",
    "        print(\"b class function\")"
   ]
  },
  {
   "cell_type": "code",
   "execution_count": 3,
   "metadata": {},
   "outputs": [
    {
     "name": "stdout",
     "output_type": "stream",
     "text": [
      "b class function\n"
     ]
    }
   ],
   "source": [
    "obj = B()\n",
    "obj.info()"
   ]
  },
  {
   "cell_type": "code",
   "execution_count": 4,
   "metadata": {},
   "outputs": [
    {
     "name": "stdout",
     "output_type": "stream",
     "text": [
      "a class function\n"
     ]
    }
   ],
   "source": [
    "obj1 = A()\n",
    "obj1.info()"
   ]
  },
  {
   "cell_type": "markdown",
   "metadata": {},
   "source": [
    "# Method Overloading"
   ]
  },
  {
   "cell_type": "code",
   "execution_count": 5,
   "metadata": {},
   "outputs": [],
   "source": [
    "# Not supported in python"
   ]
  },
  {
   "cell_type": "markdown",
   "metadata": {},
   "source": [
    "# Static Method"
   ]
  },
  {
   "cell_type": "code",
   "execution_count": null,
   "metadata": {},
   "outputs": [],
   "source": [
    "# static method can be called WITHOUT AN OBJECT for that class."
   ]
  },
  {
   "cell_type": "code",
   "execution_count": 6,
   "metadata": {},
   "outputs": [
    {
     "name": "stdout",
     "output_type": "stream",
     "text": [
      "Addition of two numbers: 45\n"
     ]
    }
   ],
   "source": [
    "# Using staticmethod()\n",
    "\n",
    "class Calculate:\n",
    "    def add(x,y):\n",
    "        return x + y\n",
    "    \n",
    "Calculate.add = staticmethod(Calculate.add)\n",
    "\n",
    "print(\"Addition of two numbers:\",Calculate.add(20,25))"
   ]
  },
  {
   "cell_type": "code",
   "execution_count": 7,
   "metadata": {},
   "outputs": [
    {
     "name": "stdout",
     "output_type": "stream",
     "text": [
      "Addition of two numbers: 27\n"
     ]
    }
   ],
   "source": [
    "# Using @staticmethod\n",
    "\n",
    "class Calculate:\n",
    "    \n",
    "    @staticmethod\n",
    "    def add(x,y):\n",
    "        return x + y\n",
    "\n",
    "print(\"Addition of two numbers:\",Calculate.add(2,25))"
   ]
  }
 ],
 "metadata": {
  "kernelspec": {
   "display_name": "Python 3",
   "language": "python",
   "name": "python3"
  },
  "language_info": {
   "codemirror_mode": {
    "name": "ipython",
    "version": 3
   },
   "file_extension": ".py",
   "mimetype": "text/x-python",
   "name": "python",
   "nbconvert_exporter": "python",
   "pygments_lexer": "ipython3",
   "version": "3.7.9"
  }
 },
 "nbformat": 4,
 "nbformat_minor": 4
}
