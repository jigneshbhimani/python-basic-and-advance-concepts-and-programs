{
 "cells": [
  {
   "cell_type": "markdown",
   "metadata": {},
   "source": [
    "# *args"
   ]
  },
  {
   "cell_type": "code",
   "execution_count": 1,
   "metadata": {},
   "outputs": [],
   "source": [
    "# *args is short for arguments. *args is used to pass variable number of non-keyworded arguments list.\n",
    "# *args make the function flexible."
   ]
  },
  {
   "cell_type": "code",
   "execution_count": 3,
   "metadata": {},
   "outputs": [
    {
     "name": "stdout",
     "output_type": "stream",
     "text": [
      "Sum: 8\n",
      "Sum: 22\n"
     ]
    }
   ],
   "source": [
    "def adder(*num):\n",
    "    sum=0\n",
    "    for n in num:\n",
    "        sum=sum+n\n",
    "    print(\"Sum:\",sum)\n",
    "adder(3,5)\n",
    "adder(4,5,6,7)"
   ]
  },
  {
   "cell_type": "markdown",
   "metadata": {},
   "source": [
    "# **kwargs"
   ]
  },
  {
   "cell_type": "code",
   "execution_count": null,
   "metadata": {},
   "outputs": [],
   "source": [
    "# **kwargs is short for keyword arguments.\n",
    "# **kwargs is used to pass variable number of keyword arguments list.\n",
    "# **kwargs also make the function flexible."
   ]
  },
  {
   "cell_type": "code",
   "execution_count": 4,
   "metadata": {},
   "outputs": [
    {
     "name": "stdout",
     "output_type": "stream",
     "text": [
      "\n",
      " data type of arguments: <class 'dict'>\n",
      "Firstname is Jigs\n",
      "Lastname is Bhimani\n",
      "Age is 23\n",
      "Email is jigs@gmail.com\n",
      "Phone is 1122334455\n"
     ]
    }
   ],
   "source": [
    "def intro(**data):\n",
    "    print(\"\\n data type of arguments:\",type(data))\n",
    "    for key,value in data.items():\n",
    "        print(\"{} is {}\".format(key,value))\n",
    "intro(Firstname=\"Jigs\",Lastname=\"Bhimani\",Age=\"23\",Email=\"jigs@gmail.com\",Phone=\"1122334455\")"
   ]
  }
 ],
 "metadata": {
  "kernelspec": {
   "display_name": "Python 3",
   "language": "python",
   "name": "python3"
  },
  "language_info": {
   "codemirror_mode": {
    "name": "ipython",
    "version": 3
   },
   "file_extension": ".py",
   "mimetype": "text/x-python",
   "name": "python",
   "nbconvert_exporter": "python",
   "pygments_lexer": "ipython3",
   "version": "3.7.9"
  }
 },
 "nbformat": 4,
 "nbformat_minor": 4
}
