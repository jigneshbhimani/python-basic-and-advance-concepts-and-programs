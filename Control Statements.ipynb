{
 "cells": [
  {
   "cell_type": "code",
   "execution_count": 1,
   "metadata": {},
   "outputs": [],
   "source": [
    "# There are three control statements.\n",
    "# 1.break\n",
    "# 2.continue\n",
    "# 3.pass"
   ]
  },
  {
   "cell_type": "markdown",
   "metadata": {},
   "source": [
    "# break"
   ]
  },
  {
   "cell_type": "code",
   "execution_count": 2,
   "metadata": {},
   "outputs": [],
   "source": [
    "# It is used to terminate the loop or statement which it is present."
   ]
  },
  {
   "cell_type": "code",
   "execution_count": 3,
   "metadata": {},
   "outputs": [
    {
     "name": "stdout",
     "output_type": "stream",
     "text": [
      "Character:  P\n",
      "Character:  y\n",
      "Character:  t\n"
     ]
    }
   ],
   "source": [
    "for char in 'Python':\n",
    "    if (char == 'h'):\n",
    "       break\n",
    "    print(\"Character: \",char)"
   ]
  },
  {
   "cell_type": "markdown",
   "metadata": {},
   "source": [
    "# continue"
   ]
  },
  {
   "cell_type": "code",
   "execution_count": 4,
   "metadata": {},
   "outputs": [],
   "source": [
    "# It is used to instead of terminating the loop, it forces to execute the next iteration of the loop."
   ]
  },
  {
   "cell_type": "code",
   "execution_count": 5,
   "metadata": {},
   "outputs": [
    {
     "name": "stdout",
     "output_type": "stream",
     "text": [
      "Character:  P\n",
      "Character:  t\n",
      "Character:  h\n",
      "Character:  o\n",
      "Character:  n\n"
     ]
    }
   ],
   "source": [
    "# if loop complusory \n",
    "for char in 'Python':\n",
    "    if (char == 'y'):\n",
    "        continue\n",
    "    print(\"Character: \",char)"
   ]
  },
  {
   "cell_type": "code",
   "execution_count": 6,
   "metadata": {},
   "outputs": [],
   "source": [
    "# without if loop no output\n",
    "for char in 'Python':\n",
    "    continue\n",
    "    print(char)"
   ]
  },
  {
   "cell_type": "markdown",
   "metadata": {},
   "source": [
    "# pass"
   ]
  },
  {
   "cell_type": "code",
   "execution_count": 7,
   "metadata": {},
   "outputs": [],
   "source": [
    "# When a statement is required syntactically but you do not want any command or code to execute."
   ]
  },
  {
   "cell_type": "code",
   "execution_count": 8,
   "metadata": {},
   "outputs": [
    {
     "name": "stdout",
     "output_type": "stream",
     "text": [
      "Character:  P\n",
      "Character:  y\n",
      "Character:  t\n",
      "Character:  h\n",
      "Character:  o\n",
      "Character:  n\n"
     ]
    }
   ],
   "source": [
    "for char in 'Python':\n",
    "    if (char == 'h'):\n",
    "       pass\n",
    "    print(\"Character: \",char)"
   ]
  }
 ],
 "metadata": {
  "kernelspec": {
   "display_name": "Python 3",
   "language": "python",
   "name": "python3"
  },
  "language_info": {
   "codemirror_mode": {
    "name": "ipython",
    "version": 3
   },
   "file_extension": ".py",
   "mimetype": "text/x-python",
   "name": "python",
   "nbconvert_exporter": "python",
   "pygments_lexer": "ipython3",
   "version": "3.7.9"
  }
 },
 "nbformat": 4,
 "nbformat_minor": 4
}
