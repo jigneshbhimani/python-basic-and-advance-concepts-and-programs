{
 "cells": [
  {
   "cell_type": "code",
   "execution_count": 1,
   "metadata": {},
   "outputs": [],
   "source": [
    "# Inheritance : One class can contain properties of another class is called inheritance.\n",
    "# Which is provide reusability and reduce code.\n",
    "# Types of inheritance:\n",
    "#     1. Single-level inheritance\n",
    "#     2. Multi-level inheritance\n",
    "#     3. Multiple inheritance\n",
    "#     4. Hierarchical inheritance\n",
    "#     5. Hybrid inheritance"
   ]
  },
  {
   "cell_type": "markdown",
   "metadata": {},
   "source": [
    "# Single-level inheritance"
   ]
  },
  {
   "cell_type": "code",
   "execution_count": 2,
   "metadata": {},
   "outputs": [],
   "source": [
    "# When a child class inherits from only one parent class."
   ]
  },
  {
   "cell_type": "code",
   "execution_count": 3,
   "metadata": {},
   "outputs": [
    {
     "name": "stdout",
     "output_type": "stream",
     "text": [
      "Name is: Jigs Age is: 22 Stream is: IT\n"
     ]
    }
   ],
   "source": [
    "class Student():\n",
    "    \n",
    "    def __init__(self,name,age):\n",
    "        self.name = name\n",
    "        self.age = age\n",
    "        \n",
    "class BCA(Student):\n",
    "    def __init__(self,name,age,stream):\n",
    "        self.stream = stream\n",
    "        Student.__init__(self,name,age)\n",
    "        \n",
    "    def show(self):\n",
    "        print(\"Name is:\",self.name,\"Age is:\",self.age,\"Stream is:\",self.stream)\n",
    "        \n",
    "obj = BCA(\"Jigs\",\"22\",\"IT\")\n",
    "obj.show()     "
   ]
  },
  {
   "cell_type": "markdown",
   "metadata": {},
   "source": [
    "# Multi-level inheritance"
   ]
  },
  {
   "cell_type": "code",
   "execution_count": 4,
   "metadata": {},
   "outputs": [],
   "source": [
    "# When you inherit a class from a derived class."
   ]
  },
  {
   "cell_type": "code",
   "execution_count": 5,
   "metadata": {},
   "outputs": [
    {
     "name": "stdout",
     "output_type": "stream",
     "text": [
      "College name Tops year 2018 subject OOPJ\n"
     ]
    }
   ],
   "source": [
    "\n",
    "class Student:\n",
    "    def __init__(self,name):\n",
    "        self.name = name\n",
    "        \n",
    "class BCA(Student):\n",
    "    def __init__(self,year,name):\n",
    "        self.year = year\n",
    "        super().__init__(name)\n",
    "        \n",
    "class DS(BCA):\n",
    "    def __init__(self,topic,name,year):\n",
    "        self.topic = topic\n",
    "        BCA.__init__(self,name,year)\n",
    "        \n",
    "    def show(self):\n",
    "        print(\"College name {} year {} subject {}\".format(self.name,self.year,self.topic))\n",
    "        \n",
    "sub = DS('OOPJ',2018,'Tops')\n",
    "sub.show()"
   ]
  },
  {
   "cell_type": "markdown",
   "metadata": {},
   "source": [
    "# Multiple inheritance"
   ]
  },
  {
   "cell_type": "code",
   "execution_count": 6,
   "metadata": {},
   "outputs": [],
   "source": [
    "# When you inherit a child class from more than one base class."
   ]
  },
  {
   "cell_type": "code",
   "execution_count": 7,
   "metadata": {},
   "outputs": [
    {
     "name": "stdout",
     "output_type": "stream",
     "text": [
      "Hospital name: Civil, number: 888, addreess: Hosptital chowk\n"
     ]
    }
   ],
   "source": [
    "class Hospital:\n",
    "    def __init__(self,name):\n",
    "        self.name = name\n",
    "        \n",
    "class Ambulance:\n",
    "    def __init__(self,number):\n",
    "        self.number = number\n",
    "        \n",
    "class Patient(Hospital,Ambulance):\n",
    "    def __init__(self,name,number,address):\n",
    "        self.address = address\n",
    "        \n",
    "        Hospital.__init__(self,name)\n",
    "        Ambulance.__init__(self,number)\n",
    "        \n",
    "    def show(self):\n",
    "        print(\"Hospital name: {}, number: {}, addreess: {}\".format(self.name,self.number,self.address))\n",
    "        \n",
    "obj = Patient(\"Civil\",'888',\"Hosptital chowk\")\n",
    "obj.show()"
   ]
  },
  {
   "cell_type": "markdown",
   "metadata": {},
   "source": [
    "# Hierarchical inheritance"
   ]
  },
  {
   "cell_type": "code",
   "execution_count": 8,
   "metadata": {},
   "outputs": [],
   "source": [
    "# When more than derived classes are created from a single base class."
   ]
  },
  {
   "cell_type": "code",
   "execution_count": 9,
   "metadata": {},
   "outputs": [
    {
     "name": "stdout",
     "output_type": "stream",
     "text": [
      "ID: 101 Name: Jignesh Gender: Male Company: TATA Department: HR\n",
      "ID: 102 Name: Jigs Gender: Male Hospital: Civil Department: ICU\n"
     ]
    }
   ],
   "source": [
    "class Details:\n",
    "    def __init__(self,Id,name,gender):\n",
    "        self.Id = Id\n",
    "        self.name = name\n",
    "        self.gender = gender\n",
    "        \n",
    "class Employee(Details):\n",
    "    def __init__(self,Id,name,gender,company,dept):\n",
    "        self.company = company\n",
    "        self.dept = dept\n",
    "        \n",
    "        Details.__init__(self,Id,name,gender)\n",
    "        \n",
    "    def show(self):\n",
    "        print(\"ID: {} Name: {} Gender: {} Company: {} Department: {}\".format(self.Id,self.name,self.gender,self.company,self.dept))\n",
    "    \n",
    "class Doctor(Details):\n",
    "    def __init__(self,Id,name,gender,hospital,dept):\n",
    "        self.hospital = hospital\n",
    "        self.dept = dept\n",
    "        \n",
    "        Details.__init__(self,Id,name,gender)\n",
    "        \n",
    "    def show(self):\n",
    "        print(\"ID: {} Name: {} Gender: {} Hospital: {} Department: {}\".format(self.Id,self.name,self.gender,self.hospital,self.dept))\n",
    "        \n",
    "s = Employee(101,\"Jignesh\",\"Male\",\"TATA\",\"HR\")\n",
    "s.show()\n",
    "\n",
    "p = Doctor(102,\"Jigs\",\"Male\",\"Civil\",\"ICU\")\n",
    "p.show()"
   ]
  },
  {
   "cell_type": "markdown",
   "metadata": {},
   "source": [
    "# Hybrid inheritance"
   ]
  },
  {
   "cell_type": "code",
   "execution_count": 10,
   "metadata": {},
   "outputs": [],
   "source": [
    "# It involves multiple inheritance taking place in a single program.\n",
    "# Super function allows us to call a method from the parent class."
   ]
  },
  {
   "cell_type": "code",
   "execution_count": 11,
   "metadata": {},
   "outputs": [
    {
     "name": "stdout",
     "output_type": "stream",
     "text": [
      "University: BHGCET, College Name: GTU, Center: Rajkot, Topic: C++\n",
      "University: BHGCET, College Name: GTU, Center: BBA College, Topic: State\n",
      "College: BCA college, Center: Rajkot, Feedback: Nice!\n"
     ]
    }
   ],
   "source": [
    "class University:\n",
    "    def __init__(self,university):\n",
    "        self.university = university\n",
    "        \n",
    "class College(University):\n",
    "    def __init__(self,clg_name,center):\n",
    "        self.clg_name = clg_name\n",
    "        self.center = center\n",
    "        \n",
    "class Department(College):\n",
    "    def __init__(self,clg_name,center,dept):\n",
    "        self.dept = dept\n",
    "        University.__init__(self,university='BHGCET')\n",
    "        College.__init__(self,clg_name,center)\n",
    "        \n",
    "class BCA(Department):\n",
    "    def __init__(self,clg_name,cenetr,topic):\n",
    "        self.topic = topic\n",
    "        University.__init__(self,university='BHGCET')\n",
    "        College.__init__(self,clg_name,center='Rajkot')\n",
    "        \n",
    "    def show(self):\n",
    "        print(\"University: {}, College Name: {}, Center: {}, Topic: {}\".format(self.university,self.clg_name,self.center,self.topic))\n",
    "        \n",
    "class BBA(Department):\n",
    "    def __init__(self,clg_name,center,topic):\n",
    "        self.topic = topic\n",
    "        University.__init__(self,university='BHGCET')\n",
    "        College.__init__(self,clg_name,center)\n",
    "        \n",
    "    def show(self):\n",
    "        print(\"University: {}, College Name: {}, Center: {}, Topic: {}\".format(self.university,self.clg_name,self.center,self.topic))\n",
    "        \n",
    "class Feedback(College):\n",
    "    def __init__(self,clg_name,center,feedback):\n",
    "        self.feedback = feedback\n",
    "        University.__init__(self,university='BHGCET')\n",
    "        College.__init__(self,clg_name,center)\n",
    "        \n",
    "    def show(self):\n",
    "        print(\"College: {}, Center: {}, Feedback: {}\".format(self.clg_name,self.center,self.feedback))\n",
    "\n",
    "a = BCA('GTU','BHGCET','C++')\n",
    "a.show()\n",
    "b = BBA('GTU','BBA College','State')\n",
    "b.show()\n",
    "c = Feedback('BCA college','Rajkot','Nice!')\n",
    "c.show()"
   ]
  },
  {
   "cell_type": "code",
   "execution_count": null,
   "metadata": {},
   "outputs": [],
   "source": []
  }
 ],
 "metadata": {
  "kernelspec": {
   "display_name": "Python 3",
   "language": "python",
   "name": "python3"
  },
  "language_info": {
   "codemirror_mode": {
    "name": "ipython",
    "version": 3
   },
   "file_extension": ".py",
   "mimetype": "text/x-python",
   "name": "python",
   "nbconvert_exporter": "python",
   "pygments_lexer": "ipython3",
   "version": "3.7.9"
  }
 },
 "nbformat": 4,
 "nbformat_minor": 4
}
