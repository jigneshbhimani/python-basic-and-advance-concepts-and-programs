{
 "cells": [
  {
   "cell_type": "code",
   "execution_count": 1,
   "metadata": {},
   "outputs": [
    {
     "data": {
      "text/plain": [
       "['e', 'o', 'y', 'o', 'n']"
      ]
     },
     "execution_count": 1,
     "metadata": {},
     "output_type": "execute_result"
    }
   ],
   "source": [
    "# []:- A set of characters \"[a-m]\"\n",
    "\n",
    "import re\n",
    "st = 'hello Python'\n",
    "re.findall('[eyon]',st)"
   ]
  },
  {
   "cell_type": "code",
   "execution_count": 2,
   "metadata": {},
   "outputs": [
    {
     "data": {
      "text/plain": [
       "['h', 'e', 'l', 'l', 'o', 't', 'h', 'o', 'n']"
      ]
     },
     "execution_count": 2,
     "metadata": {},
     "output_type": "execute_result"
    }
   ],
   "source": [
    "# e-t ke bich me only output ke sare word aata hai\n",
    "\n",
    "re.findall('[e-t]',st)"
   ]
  },
  {
   "cell_type": "code",
   "execution_count": 3,
   "metadata": {},
   "outputs": [
    {
     "data": {
      "text/plain": [
       "['hello', 'heaao', 'he12o']"
      ]
     },
     "execution_count": 3,
     "metadata": {},
     "output_type": "execute_result"
    }
   ],
   "source": [
    "# . :- Period \n",
    "# A period matches any single character.\n",
    "# 'he' se start hoga and 'o' se end hoga bich me koibhi 2 characters aana chahiye\n",
    "\n",
    "re.findall('he..o','hello heaao hallo he12o')"
   ]
  },
  {
   "cell_type": "code",
   "execution_count": 4,
   "metadata": {},
   "outputs": [
    {
     "data": {
      "text/plain": [
       "['h']"
      ]
     },
     "execution_count": 4,
     "metadata": {},
     "output_type": "execute_result"
    }
   ],
   "source": [
    "# ^ :- starts with \"^hello\"\n",
    "\n",
    "t = 'hello hello'\n",
    "re.findall('^h',t)"
   ]
  },
  {
   "cell_type": "code",
   "execution_count": 5,
   "metadata": {},
   "outputs": [
    {
     "data": {
      "text/plain": [
       "['d']"
      ]
     },
     "execution_count": 5,
     "metadata": {},
     "output_type": "execute_result"
    }
   ],
   "source": [
    "# $ :- Ends with \"world$\"\n",
    "\n",
    "re.findall(\"d$\",\"World\")"
   ]
  },
  {
   "cell_type": "code",
   "execution_count": 6,
   "metadata": {},
   "outputs": [
    {
     "data": {
      "text/plain": [
       "['ai', 'ai']"
      ]
     },
     "execution_count": 6,
     "metadata": {},
     "output_type": "execute_result"
    }
   ],
   "source": [
    "# * :- Zero or more occurances \"ai*\"\n",
    "\n",
    "txt = 'The rain in spain.'\n",
    "re.findall(\"ai*\",txt)"
   ]
  },
  {
   "cell_type": "code",
   "execution_count": 7,
   "metadata": {},
   "outputs": [
    {
     "data": {
      "text/plain": [
       "[]"
      ]
     },
     "execution_count": 7,
     "metadata": {},
     "output_type": "execute_result"
    }
   ],
   "source": [
    "# + :- one or more occurances \"ai+\"\n",
    "\n",
    "txt = 'The rain in spain.'\n",
    "re.findall(\"aix+\",txt)"
   ]
  },
  {
   "cell_type": "code",
   "execution_count": 8,
   "metadata": {},
   "outputs": [
    {
     "data": {
      "text/plain": [
       "['n  ', 'n  ']"
      ]
     },
     "execution_count": 8,
     "metadata": {},
     "output_type": "execute_result"
    }
   ],
   "source": [
    "# {} :- Exactly the specified number of occurances \"n{2}\"\n",
    "# 'n' ke bad kitne space hai wo curly bracket me likhna hai agar usse jyada likhte hai to empty list dikhata hai \n",
    "\n",
    "import re\n",
    "txt = 'The rain  in  Spain'\n",
    "re.findall('n {2}',txt)"
   ]
  },
  {
   "cell_type": "code",
   "execution_count": 9,
   "metadata": {},
   "outputs": [
    {
     "data": {
      "text/plain": [
       "['J', 'i', 'g', 's', '1', '2', '3']"
      ]
     },
     "execution_count": 9,
     "metadata": {},
     "output_type": "execute_result"
    }
   ],
   "source": [
    "# \\w :- Matches with alphanumeric character\n",
    "\n",
    "txt = 'Jigs @+*$ 123'\n",
    "re.findall('\\w',txt)"
   ]
  },
  {
   "cell_type": "code",
   "execution_count": 10,
   "metadata": {},
   "outputs": [
    {
     "data": {
      "text/plain": [
       "[' ', '@', '+', '*', '$', ' ']"
      ]
     },
     "execution_count": 10,
     "metadata": {},
     "output_type": "execute_result"
    }
   ],
   "source": [
    "# \\W (upper case W) :- Matches Non alphanumeric character\n",
    "\n",
    "txt = 'Jigs @+*$ 123'\n",
    "re.findall('\\W',txt)"
   ]
  },
  {
   "cell_type": "code",
   "execution_count": 11,
   "metadata": {},
   "outputs": [
    {
     "data": {
      "text/plain": [
       "['1', '2', '3']"
      ]
     },
     "execution_count": 11,
     "metadata": {},
     "output_type": "execute_result"
    }
   ],
   "source": [
    "# \\d :- Matches with digits [0-9]\n",
    "\n",
    "re.findall('\\d','123 hello')"
   ]
  },
  {
   "cell_type": "code",
   "execution_count": 12,
   "metadata": {},
   "outputs": [
    {
     "data": {
      "text/plain": [
       "[' ', 'h', 'e', 'l', 'l', 'o']"
      ]
     },
     "execution_count": 12,
     "metadata": {},
     "output_type": "execute_result"
    }
   ],
   "source": [
    "# \\D (upper case D) :- Matches with non-digits\n",
    "\n",
    "re.findall('\\D','123 hello')"
   ]
  },
  {
   "cell_type": "code",
   "execution_count": 13,
   "metadata": {},
   "outputs": [
    {
     "data": {
      "text/plain": [
       "[' ']"
      ]
     },
     "execution_count": 13,
     "metadata": {},
     "output_type": "execute_result"
    }
   ],
   "source": [
    "# \\s :- Matches with a single whitespace character\n",
    "# (space,newline,return,tab,form)\n",
    "\n",
    "re.findall('\\s','123 hello')"
   ]
  },
  {
   "cell_type": "code",
   "execution_count": 14,
   "metadata": {},
   "outputs": [
    {
     "data": {
      "text/plain": [
       "['1', '2', '3', 'h', 'e', 'l', 'l', 'o']"
      ]
     },
     "execution_count": 14,
     "metadata": {},
     "output_type": "execute_result"
    }
   ],
   "source": [
    "# \\S (upper case S) :- Matches any non-whitespace character\n",
    "\n",
    "re.findall('\\S','123 hello')"
   ]
  },
  {
   "cell_type": "code",
   "execution_count": 15,
   "metadata": {},
   "outputs": [
    {
     "data": {
      "text/plain": [
       "['2', '12', '2']"
      ]
     },
     "execution_count": 15,
     "metadata": {},
     "output_type": "execute_result"
    }
   ],
   "source": [
    "# ? :- question mark : ma?n\n",
    "# the question mark symbol ? matches\n",
    "# zero or one occurance of the pattern left to it\n",
    "\n",
    "import re\n",
    "re.findall(\"1?2\",\"234 1234 1456 2567\")"
   ]
  },
  {
   "cell_type": "code",
   "execution_count": 16,
   "metadata": {},
   "outputs": [
    {
     "data": {
      "text/plain": [
       "['12', '1']"
      ]
     },
     "execution_count": 16,
     "metadata": {},
     "output_type": "execute_result"
    }
   ],
   "source": [
    "# ? :- Question Mark\n",
    "\n",
    "import re\n",
    "re.findall(\"12?\",\"234 1234 1456 2567\")"
   ]
  },
  {
   "cell_type": "code",
   "execution_count": 17,
   "metadata": {},
   "outputs": [
    {
     "data": {
      "text/plain": [
       "['a', 'a', 'c', 'b']"
      ]
     },
     "execution_count": 17,
     "metadata": {},
     "output_type": "execute_result"
    }
   ],
   "source": [
    "# | :- alternation:  a|b\n",
    "# Vertical bar | is used for alternation (or operator)\n",
    "\n",
    "import re\n",
    "re.findall('(a|b|c)xy',\"axy dxy abaxy cyx cxy bxy\")"
   ]
  },
  {
   "cell_type": "code",
   "execution_count": 18,
   "metadata": {},
   "outputs": [
    {
     "data": {
      "text/plain": [
       "['aa', 'aaa']"
      ]
     },
     "execution_count": 18,
     "metadata": {},
     "output_type": "execute_result"
    }
   ],
   "source": [
    "# a{2,3} means puri string me 'a' yato 2 bar aana chahiye ya 3 bar aana chahiye par sath me \n",
    "\n",
    "import re\n",
    "re.findall(\"a{2,3}\",\"abc aabcd aaabsvg bca ababca\")"
   ]
  },
  {
   "cell_type": "code",
   "execution_count": 19,
   "metadata": {},
   "outputs": [
    {
     "data": {
      "text/plain": [
       "['$a']"
      ]
     },
     "execution_count": 19,
     "metadata": {},
     "output_type": "execute_result"
    }
   ],
   "source": [
    "# \\ :- Backslash\n",
    "# It is used to escape various characters including all metacharacters\n",
    "\n",
    "import re\n",
    "re.findall('\\$a',\"abc $a $b\")"
   ]
  },
  {
   "cell_type": "code",
   "execution_count": 20,
   "metadata": {},
   "outputs": [
    {
     "data": {
      "text/plain": [
       "['a', 'b']"
      ]
     },
     "execution_count": 20,
     "metadata": {},
     "output_type": "execute_result"
    }
   ],
   "source": [
    "# () :- Group\n",
    "# Parentheses () is used to group sub-patterns\n",
    "\n",
    "import re\n",
    "re.findall('(a|b)x',\"axbc bxcd cda\")"
   ]
  }
 ],
 "metadata": {
  "kernelspec": {
   "display_name": "Python 3",
   "language": "python",
   "name": "python3"
  },
  "language_info": {
   "codemirror_mode": {
    "name": "ipython",
    "version": 3
   },
   "file_extension": ".py",
   "mimetype": "text/x-python",
   "name": "python",
   "nbconvert_exporter": "python",
   "pygments_lexer": "ipython3",
   "version": "3.7.9"
  }
 },
 "nbformat": 4,
 "nbformat_minor": 4
}
